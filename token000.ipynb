{
  "nbformat": 4,
  "nbformat_minor": 0,
  "metadata": {
    "colab": {
      "provenance": []
    },
    "kernelspec": {
      "name": "python3",
      "display_name": "Python 3"
    },
    "language_info": {
      "name": "python"
    }
  },
  "cells": [
    {
      "cell_type": "code",
      "execution_count": 8,
      "metadata": {
        "colab": {
          "base_uri": "https://localhost:8080/"
        },
        "id": "kJgKl5878rdi",
        "outputId": "fa383008-8e91-446c-831d-8e12c3cd00d8"
      },
      "outputs": [
        {
          "output_type": "stream",
          "name": "stdout",
          "text": [
            "tensor([[0., 0., 0.],\n",
            "        [0., 0., 0.]])\n",
            "tensor([[1, 2, 3],\n",
            "        [4, 5, 6]])\n",
            "tensor([[0., 0., 0.],\n",
            "        [0., 0., 0.]])\n"
          ]
        }
      ],
      "source": [
        "import torch\n",
        "\n",
        "# Create a 2x3 tensor filled with zeros\n",
        "tensor_zeros = torch.zeros(2, 3)\n",
        "print(tensor_zeros)\n",
        "\n",
        "# Create a tensor from a list\n",
        "data = [1, 2, 3, 4, 5, 6]\n",
        "tensor_from_list = torch.tensor(data)\n",
        "tensor_from_list = tensor_from_list.reshape(2, 3)  # Reshape the tensor to match the shape of tensor_zeros\n",
        "print(tensor_from_list)\n",
        "\n",
        "# Perform element-wise multiplication\n",
        "result = tensor_zeros * tensor_from_list\n",
        "print(result)\n"
      ]
    },
    {
      "cell_type": "code",
      "source": [
        "# Create a 5x5 tensor filled with zeros\n",
        "dimension = [1, 2, 3, 4, 5, 6, 7, 8 ,9]\n",
        "tensor_dimension = torch.tensor(dimension) # make matrix\n",
        "tensor_dimension = tensor_dimension.reshape(3, 3)  # Reshape the tensor to (3, 3)\n",
        "print(tensor_dimension)\n",
        "\n",
        "# Create a tensor from a list\n",
        "data = [1, 2, 3, 4, 5, 6, 7 , 8 ,9]\n",
        "tensor_from_list = torch.tensor(data) # make matrix\n",
        "tensor_from_list = tensor_from_list.reshape(3, 3)  # Reshape the tensor to match the shape of tensor_dimension\n",
        "print(tensor_from_list)\n",
        "\n",
        "# Perform element-wise multiplication\n",
        "result = tensor_dimension * tensor_from_list\n",
        "print(result)\n",
        "\n",
        "print('result = x*y while x=y and x>10 and y>10 in a (3,3) matrix')"
      ],
      "metadata": {
        "colab": {
          "base_uri": "https://localhost:8080/"
        },
        "id": "EiS2U73j9pEZ",
        "outputId": "65043229-2dc5-4c17-f520-4a135b5becde"
      },
      "execution_count": 12,
      "outputs": [
        {
          "output_type": "stream",
          "name": "stdout",
          "text": [
            "tensor([[1, 2, 3],\n",
            "        [4, 5, 6],\n",
            "        [7, 8, 9]])\n",
            "tensor([[1, 2, 3],\n",
            "        [4, 5, 6],\n",
            "        [7, 8, 9]])\n",
            "tensor([[ 1,  4,  9],\n",
            "        [16, 25, 36],\n",
            "        [49, 64, 81]])\n",
            "result = x*y while x=y and x>10 and y>10 in a (3,3) matrix\n"
          ]
        }
      ]
    }
  ]
}